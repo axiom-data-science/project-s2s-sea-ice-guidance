{
 "cells": [
  {
   "cell_type": "code",
   "execution_count": 1,
   "id": "c3931a04-4c65-4564-b91e-3e73241e71db",
   "metadata": {},
   "outputs": [],
   "source": [
    "from math import sqrt\n",
    "from pathlib import Path\n",
    "\n",
    "import geopandas as gdp\n",
    "import matplotlib.pyplot as plt\n",
    "import numpy as np\n",
    "import pandas as pd\n",
    "import xarray as xr\n",
    "from pandas.plotting import register_matplotlib_converters\n",
    "from statsmodels.tsa.seasonal import STL \n",
    "from statsmodels.tsa.seasonal import seasonal_decompose\n",
    "\n",
    "import dask\n",
    "from multiprocessing import cpu_count\n",
    "from distributed import Client\n",
    "#from joblib import Parallel\n",
    "#from joblib import delayed\n",
    "from warnings import catch_warnings\n",
    "from warnings import filterwarnings\n",
    "from statsmodels.tsa.statespace.sarimax import SARIMAX\n",
    "from sklearn.metrics import mean_squared_error\n",
    "\n",
    "from load_data import load_data\n",
    "\n",
    "register_matplotlib_converters()\n",
    "\n",
    "plt.rc('figure',figsize=(16,12))"
   ]
  },
  {
   "cell_type": "code",
   "execution_count": 2,
   "id": "f51a8100-cfee-4b91-832d-27ac8392313c",
   "metadata": {},
   "outputs": [],
   "source": [
    "def load_data_local(fname, var):\n",
    "    with xr.open_dataset(fname) as ds:\n",
    "        df = ds.to_dataframe()\n",
    "\n",
    "    # Remove non-monotonic time-stamps\n",
    "    # - find time diff > 2 days\n",
    "    # - max in original dataset without problems of 2 days (leap year)\n",
    "    ns_per_day = 86400000000000\n",
    "    ndays = 2\n",
    "    limit = ndays * ns_per_day\n",
    "    if np.max(np.diff(df.index.values)) > limit:\n",
    "        tmp_df = df.copy()\n",
    "        while np.max(np.diff(tmp_df.index.values)) > limit:\n",
    "            #print(np.max(np.diff(tmp_df.index.values)), np.argmax(np.diff(tmp_df.index.values)))\n",
    "            drop_ix = np.argmax(np.diff(tmp_df.index.values)) + 1\n",
    "            drop_time = tmp_df.iloc[drop_ix, :]\n",
    "            new_df = tmp_df.drop(index=[drop_time.name])\n",
    "            tmp_df = new_df\n",
    "        df = tmp_df\n",
    "    \n",
    "    new_times = pd.date_range(start=df.index[0], end=df.index[-1], freq='D')\n",
    "    new_df = df.reindex(index=new_times, columns=[var])\n",
    "    new_df.fillna(method='ffill', inplace=True)\n",
    "    \n",
    "    return new_df"
   ]
  },
  {
   "cell_type": "code",
   "execution_count": 3,
   "id": "f391b828-d956-414f-bf04-fc7529a856c9",
   "metadata": {},
   "outputs": [],
   "source": [
    "pabrc = load_data_local('station-data/PABRC-ice_conc.nc', 'ICE_C_GDS0_SFC_ave6h')\n",
    "weekly = pabrc.resample('W').mean()"
   ]
  },
  {
   "cell_type": "code",
   "execution_count": null,
   "id": "efdaad35-e456-40bb-ace3-83f2d0f9afbd",
   "metadata": {},
   "outputs": [],
   "source": []
  }
 ],
 "metadata": {
  "kernelspec": {
   "display_name": "Python 3",
   "language": "python",
   "name": "python3"
  },
  "language_info": {
   "codemirror_mode": {
    "name": "ipython",
    "version": 3
   },
   "file_extension": ".py",
   "mimetype": "text/x-python",
   "name": "python",
   "nbconvert_exporter": "python",
   "pygments_lexer": "ipython3",
   "version": "3.8.6"
  }
 },
 "nbformat": 4,
 "nbformat_minor": 5
}
