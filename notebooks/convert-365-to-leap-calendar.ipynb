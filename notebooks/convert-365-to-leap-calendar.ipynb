{
 "cells": [
  {
   "cell_type": "markdown",
   "id": "b8ae27f4-30f7-4b8a-8517-46eca24b4d05",
   "metadata": {},
   "source": [
    "# Create method to deal with 365 day calendar\n",
    "\n",
    "Steps:\n",
    "\n",
    "1. Load the DataArray\n",
    "2. Convert to Pandas DataFrame\n",
    "3. Create a new time index with all of the days using `date_range`\n",
    "4. Reindex using the new time index\n",
    "5. Fill the NaNs with something\n",
    "6. Return DF"
   ]
  },
  {
   "cell_type": "code",
   "execution_count": 1,
   "id": "65cb3a55-7cd7-4c66-ae2e-bd9bf2b6293e",
   "metadata": {},
   "outputs": [],
   "source": [
    "from pathlib import Path\n",
    "\n",
    "import numpy as np\n",
    "import pandas as pd\n",
    "import xarray as xr"
   ]
  },
  {
   "cell_type": "code",
   "execution_count": 2,
   "id": "11a1e418-233d-4815-8eaa-c301e9a24bb5",
   "metadata": {},
   "outputs": [],
   "source": [
    "pabrc_atm_temp = xr.open_dataset('station-data/PABRC-atm_temp.nc')"
   ]
  },
  {
   "cell_type": "code",
   "execution_count": 4,
   "id": "d5de64bf-c566-4e62-93c3-c647a607ded4",
   "metadata": {},
   "outputs": [],
   "source": [
    "df = pabrc_atm_temp.to_dataframe()"
   ]
  },
  {
   "cell_type": "code",
   "execution_count": 5,
   "id": "c65b8c39-c6de-478b-b39f-53c2e42e66a0",
   "metadata": {},
   "outputs": [
    {
     "data": {
      "text/html": [
       "<div>\n",
       "<style scoped>\n",
       "    .dataframe tbody tr th:only-of-type {\n",
       "        vertical-align: middle;\n",
       "    }\n",
       "\n",
       "    .dataframe tbody tr th {\n",
       "        vertical-align: top;\n",
       "    }\n",
       "\n",
       "    .dataframe thead th {\n",
       "        text-align: right;\n",
       "    }\n",
       "</style>\n",
       "<table border=\"1\" class=\"dataframe\">\n",
       "  <thead>\n",
       "    <tr style=\"text-align: right;\">\n",
       "      <th></th>\n",
       "      <th>g0_lat_1</th>\n",
       "      <th>g0_lon_2</th>\n",
       "      <th>POT_GDS0_DBSL_ave6h</th>\n",
       "    </tr>\n",
       "    <tr>\n",
       "      <th>initial_time0_hours</th>\n",
       "      <th></th>\n",
       "      <th></th>\n",
       "      <th></th>\n",
       "    </tr>\n",
       "  </thead>\n",
       "  <tbody>\n",
       "    <tr>\n",
       "      <th>2012-01-01 06:00:00</th>\n",
       "      <td>71.25</td>\n",
       "      <td>203.25</td>\n",
       "      <td>271.549988</td>\n",
       "    </tr>\n",
       "    <tr>\n",
       "      <th>2012-01-02 06:00:00</th>\n",
       "      <td>71.25</td>\n",
       "      <td>203.25</td>\n",
       "      <td>271.549988</td>\n",
       "    </tr>\n",
       "    <tr>\n",
       "      <th>2012-01-03 06:00:00</th>\n",
       "      <td>71.25</td>\n",
       "      <td>203.25</td>\n",
       "      <td>271.549988</td>\n",
       "    </tr>\n",
       "    <tr>\n",
       "      <th>2012-01-04 06:00:00</th>\n",
       "      <td>71.25</td>\n",
       "      <td>203.25</td>\n",
       "      <td>271.549988</td>\n",
       "    </tr>\n",
       "    <tr>\n",
       "      <th>2012-01-05 06:00:00</th>\n",
       "      <td>71.25</td>\n",
       "      <td>203.25</td>\n",
       "      <td>271.579987</td>\n",
       "    </tr>\n",
       "    <tr>\n",
       "      <th>...</th>\n",
       "      <td>...</td>\n",
       "      <td>...</td>\n",
       "      <td>...</td>\n",
       "    </tr>\n",
       "    <tr>\n",
       "      <th>2021-02-24 06:00:00</th>\n",
       "      <td>71.25</td>\n",
       "      <td>203.25</td>\n",
       "      <td>271.579987</td>\n",
       "    </tr>\n",
       "    <tr>\n",
       "      <th>2021-02-25 06:00:00</th>\n",
       "      <td>71.25</td>\n",
       "      <td>203.25</td>\n",
       "      <td>271.579987</td>\n",
       "    </tr>\n",
       "    <tr>\n",
       "      <th>2021-02-26 06:00:00</th>\n",
       "      <td>71.25</td>\n",
       "      <td>203.25</td>\n",
       "      <td>271.579987</td>\n",
       "    </tr>\n",
       "    <tr>\n",
       "      <th>2021-02-27 06:00:00</th>\n",
       "      <td>71.25</td>\n",
       "      <td>203.25</td>\n",
       "      <td>271.579987</td>\n",
       "    </tr>\n",
       "    <tr>\n",
       "      <th>2021-02-28 06:00:00</th>\n",
       "      <td>71.25</td>\n",
       "      <td>203.25</td>\n",
       "      <td>271.579987</td>\n",
       "    </tr>\n",
       "  </tbody>\n",
       "</table>\n",
       "<p>3345 rows × 3 columns</p>\n",
       "</div>"
      ],
      "text/plain": [
       "                     g0_lat_1  g0_lon_2  POT_GDS0_DBSL_ave6h\n",
       "initial_time0_hours                                         \n",
       "2012-01-01 06:00:00     71.25    203.25           271.549988\n",
       "2012-01-02 06:00:00     71.25    203.25           271.549988\n",
       "2012-01-03 06:00:00     71.25    203.25           271.549988\n",
       "2012-01-04 06:00:00     71.25    203.25           271.549988\n",
       "2012-01-05 06:00:00     71.25    203.25           271.579987\n",
       "...                       ...       ...                  ...\n",
       "2021-02-24 06:00:00     71.25    203.25           271.579987\n",
       "2021-02-25 06:00:00     71.25    203.25           271.579987\n",
       "2021-02-26 06:00:00     71.25    203.25           271.579987\n",
       "2021-02-27 06:00:00     71.25    203.25           271.579987\n",
       "2021-02-28 06:00:00     71.25    203.25           271.579987\n",
       "\n",
       "[3345 rows x 3 columns]"
      ]
     },
     "execution_count": 5,
     "metadata": {},
     "output_type": "execute_result"
    }
   ],
   "source": [
    "df"
   ]
  },
  {
   "cell_type": "code",
   "execution_count": 6,
   "id": "e5c7e4da-9831-4e98-9980-8434580a29c4",
   "metadata": {},
   "outputs": [
    {
     "data": {
      "text/plain": [
       "DatetimeIndex(['2012-01-01 06:00:00', '2012-01-02 06:00:00',\n",
       "               '2012-01-03 06:00:00', '2012-01-04 06:00:00',\n",
       "               '2012-01-05 06:00:00', '2012-01-06 06:00:00',\n",
       "               '2012-01-07 06:00:00', '2012-01-08 06:00:00',\n",
       "               '2012-01-09 06:00:00', '2012-01-10 06:00:00',\n",
       "               ...\n",
       "               '2021-02-19 06:00:00', '2021-02-20 06:00:00',\n",
       "               '2021-02-21 06:00:00', '2021-02-22 06:00:00',\n",
       "               '2021-02-23 06:00:00', '2021-02-24 06:00:00',\n",
       "               '2021-02-25 06:00:00', '2021-02-26 06:00:00',\n",
       "               '2021-02-27 06:00:00', '2021-02-28 06:00:00'],\n",
       "              dtype='datetime64[ns]', name='initial_time0_hours', length=3345, freq=None)"
      ]
     },
     "execution_count": 6,
     "metadata": {},
     "output_type": "execute_result"
    }
   ],
   "source": [
    "df.index"
   ]
  },
  {
   "cell_type": "code",
   "execution_count": 8,
   "id": "d9d6fbed-3141-4d21-afa1-09f2675926aa",
   "metadata": {},
   "outputs": [],
   "source": [
    "new_times = pd.date_range(start=df.index[0], end=df.index[-1], freq='D')"
   ]
  },
  {
   "cell_type": "code",
   "execution_count": 9,
   "id": "a81a290d-0e25-4f43-b154-56178d6f7dd8",
   "metadata": {},
   "outputs": [
    {
     "data": {
      "text/plain": [
       "DatetimeIndex(['2012-01-01 06:00:00', '2012-01-02 06:00:00',\n",
       "               '2012-01-03 06:00:00', '2012-01-04 06:00:00',\n",
       "               '2012-01-05 06:00:00', '2012-01-06 06:00:00',\n",
       "               '2012-01-07 06:00:00', '2012-01-08 06:00:00',\n",
       "               '2012-01-09 06:00:00', '2012-01-10 06:00:00',\n",
       "               ...\n",
       "               '2021-02-19 06:00:00', '2021-02-20 06:00:00',\n",
       "               '2021-02-21 06:00:00', '2021-02-22 06:00:00',\n",
       "               '2021-02-23 06:00:00', '2021-02-24 06:00:00',\n",
       "               '2021-02-25 06:00:00', '2021-02-26 06:00:00',\n",
       "               '2021-02-27 06:00:00', '2021-02-28 06:00:00'],\n",
       "              dtype='datetime64[ns]', length=3347, freq='D')"
      ]
     },
     "execution_count": 9,
     "metadata": {},
     "output_type": "execute_result"
    }
   ],
   "source": [
    "new_times"
   ]
  },
  {
   "cell_type": "code",
   "execution_count": 37,
   "id": "d6d5693e-8976-4e7d-979e-c449329bbe1a",
   "metadata": {},
   "outputs": [],
   "source": [
    "# complains about monotonicity\n",
    "#df.reindex(index=new_times, columns=['POT_GDS0_DBSL_ave6h'], method='nearest')"
   ]
  },
  {
   "cell_type": "code",
   "execution_count": 38,
   "id": "5bec7bcd-bfd5-473d-8eb9-8eda83e0b586",
   "metadata": {},
   "outputs": [],
   "source": [
    "new_df = df.reindex(index=new_times, columns=['POT_GDS0_DBSL_ave6h'])"
   ]
  },
  {
   "cell_type": "code",
   "execution_count": 46,
   "id": "ea29c9f8-1bba-4a04-95f5-9b21b655a398",
   "metadata": {},
   "outputs": [
    {
     "data": {
      "text/plain": [
       "2"
      ]
     },
     "execution_count": 46,
     "metadata": {},
     "output_type": "execute_result"
    }
   ],
   "source": [
    "# should be 2 - leap year days\n",
    "np.sum(np.isnan(new_df['POT_GDS0_DBSL_ave6h'].values))"
   ]
  },
  {
   "cell_type": "code",
   "execution_count": 47,
   "id": "f69b14d8-8d76-4d87-bf0e-003fa921341d",
   "metadata": {},
   "outputs": [],
   "source": [
    "new_df.fillna(method='ffill', inplace=True)"
   ]
  },
  {
   "cell_type": "code",
   "execution_count": 49,
   "id": "d7cb5521-2f4c-45f4-b6d7-b9cf1993bf03",
   "metadata": {},
   "outputs": [
    {
     "data": {
      "text/plain": [
       "<AxesSubplot:>"
      ]
     },
     "execution_count": 49,
     "metadata": {},
     "output_type": "execute_result"
    },
    {
     "data": {
      "image/png": "[encoded data removed]",
      "text/plain": [
       "<Figure size 432x288 with 1 Axes>"
      ]
     },
     "metadata": {
      "needs_background": "light"
     },
     "output_type": "display_data"
    }
   ],
   "source": [
    "new_df.plot()"
   ]
  },
  {
   "cell_type": "code",
   "execution_count": 63,
   "id": "602cce28-e867-46fb-89c4-1b841a507432",
   "metadata": {},
   "outputs": [
    {
     "name": "stdout",
     "output_type": "stream",
     "text": [
      "Writing load_data.py\n"
     ]
    }
   ],
   "source": [
    "%%writefile load_data.py\n",
    "import pandas as pd\n",
    "import xarray as xr\n",
    "\n",
    "def load_data(fname, var):\n",
    "    with xr.open_dataset(fname) as ds:\n",
    "        df = ds.to_dataframe()\n",
    "     \n",
    "    new_times = pd.date_range(start=df.index[0], end=df.index[-1], freq='D')\n",
    "    new_df = df.reindex(index=new_times, columns=[var])\n",
    "    new_df.fillna(method='ffill', inplace=True)\n",
    "    \n",
    "    return new_df"
   ]
  },
  {
   "cell_type": "code",
   "execution_count": 59,
   "id": "eb3d4376-2ce2-444b-8c8b-4dbf9efe77db",
   "metadata": {},
   "outputs": [],
   "source": [
    "new_df_verify = load_data('station-data/PABRC-atm_temp.nc', 'POT_GDS0_DBSL_ave6h')"
   ]
  },
  {
   "cell_type": "code",
   "execution_count": 61,
   "id": "a8911129-6c40-4237-aa3f-271d75bf556a",
   "metadata": {},
   "outputs": [
    {
     "data": {
      "text/html": [
       "<div>\n",
       "<style scoped>\n",
       "    .dataframe tbody tr th:only-of-type {\n",
       "        vertical-align: middle;\n",
       "    }\n",
       "\n",
       "    .dataframe tbody tr th {\n",
       "        vertical-align: top;\n",
       "    }\n",
       "\n",
       "    .dataframe thead tr th {\n",
       "        text-align: left;\n",
       "    }\n",
       "</style>\n",
       "<table border=\"1\" class=\"dataframe\">\n",
       "  <thead>\n",
       "  </thead>\n",
       "  <tbody>\n",
       "  </tbody>\n",
       "</table>\n",
       "</div>"
      ],
      "text/plain": [
       "Empty DataFrame\n",
       "Columns: []\n",
       "Index: []"
      ]
     },
     "execution_count": 61,
     "metadata": {},
     "output_type": "execute_result"
    }
   ],
   "source": [
    "new_df_verify.compare(new_df)"
   ]
  },
  {
   "cell_type": "code",
   "execution_count": 62,
   "id": "8142cee0-e40a-4ac3-992b-e8b9e6143230",
   "metadata": {},
   "outputs": [
    {
     "data": {
      "text/plain": [
       "True"
      ]
     },
     "execution_count": 62,
     "metadata": {},
     "output_type": "execute_result"
    }
   ],
   "source": [
    "new_df_verify.equals(new_df)"
   ]
  },
  {
   "cell_type": "code",
   "execution_count": null,
   "id": "22e18e0a-243a-48d5-8e27-52ac2ef21555",
   "metadata": {},
   "outputs": [],
   "source": []
  },
  {
   "cell_type": "code",
   "execution_count": null,
   "id": "a5fccee9-4b45-4839-b6c3-cb4d87071186",
   "metadata": {},
   "outputs": [],
   "source": []
  }
 ],
 "metadata": {
  "kernelspec": {
   "display_name": "Python 3",
   "language": "python",
   "name": "python3"
  },
  "language_info": {
   "codemirror_mode": {
    "name": "ipython",
    "version": 3
   },
   "file_extension": ".py",
   "mimetype": "text/x-python",
   "name": "python",
   "nbconvert_exporter": "python",
   "pygments_lexer": "ipython3",
   "version": "3.8.6"
  }
 },
 "nbformat": 4,
 "nbformat_minor": 5
}
